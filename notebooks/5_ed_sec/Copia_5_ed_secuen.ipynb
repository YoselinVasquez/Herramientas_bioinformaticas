{
  "cells": [
    {
      "cell_type": "markdown",
      "metadata": {
        "id": "view-in-github",
        "colab_type": "text"
      },
      "source": [
        <a href="https://colab.research.google.com/github/YoselinVasquez/Herramientas_bioinformaticas/blob/main/notebooks/5_ed_sec/Copia_5_ed_secuen.ipynb" target="_parent"><img src="https://colab.research.google.com/assets/colab-badge.svg" alt="Open In Colab"/></a>
      ]
    },
    {
      "cell_type": "code",
      "execution_count": 9,
      "metadata": {
        "colab": {
          "base_uri": "https://localhost:8080/"
        },
        "id": "LkHIKOMM4-XJ",
        "outputId": "fd5b3ae0-a0ff-4b95-fafa-86a9938a1053"
      },
      "outputs": [
        {
          "output_type": "stream",
          "name": "stdout",
          "text": [
            "Requirement already satisfied: biopython in /usr/local/lib/python3.12/dist-packages (1.85)\n",
            "Requirement already satisfied: numpy in /usr/local/lib/python3.12/dist-packages (from biopython) (2.0.2)\n",
            "ID: KJ476705.1\n",
            "Descripción: KJ476705.1 Avian orthoreovirus isolate GX/2010/1 segment S1, complete sequence\n",
            "Longitud: 1643\n",
            "Primeros 102 nucleótidos: GCTTTTTCAATCCCTTGTTCGTCGATGCTGCGTATGCCTCCCGGTTCGTGTAACGGTGCGACTGCTGTATTTGGTAACGTTCATTGTCAGGCAGCTCAGAA\n"
          ]
        }
      ],
      "source": [
        "!cd /content/drive/MyDrive/Colab_Notebook/Bioinfo/Datasets\n",
        "\n",
        "# Instalamos Biopython, una librería para trabajar con datos biológicos\n",
        "!pip install biopython\n",
        "\n",
        "# Importamos los módulos necesarios\n",
        "from Bio import Entrez, SeqIO\n",
        "\n",
        "# NCBI requiere que se proporcione un correo electrónico para usar Entrez\n",
        "Entrez.email = \"vasquezc2603@gmail.com\"  # Reemplaza con tu correo\n",
        "\n",
        "# Definimos el número de acceso de la secuencia que queremos recuperar\n",
        "accession = \"KJ476705\" # Avian orthoreovirus isolate GX/2010/1 segment S1, complete\n",
        "\n",
        "\n",
        "# Usamos Entrez para obtener la secuencia en formato FASTA\n",
        "handle = Entrez.efetch(db=\"nucleotide\", id=accession, rettype=\"fasta\", retmode=\"text\")\n",
        "record = SeqIO.read(handle, \"fasta\")\n",
        "handle.close()\n",
        "\n",
        "# Guardamos la secuencia en un archivo FASTA local\n",
        "SeqIO.write(record, \"/content/drive/MyDrive/Colab_Notebook/Bioinfo/Datasets/mi_secuencia2.fasta\", \"fasta\")\n",
        "\n",
        "# Mostramos información básica de la secuencia\n",
        "print(\"ID:\", record.id)\n",
        "print(\"Descripción:\", record.description)\n",
        "print(\"Longitud:\", len(record.seq))\n",
        "print(\"Primeros 102 nucleótidos:\", record.seq[:101])\n",
        "\n"
      ]
    },
    {
      "cell_type": "code",
      "source": [
        "from google.colab import drive\n",
        "drive.mount('/content/drive')"
      ],
      "metadata": {
        "colab": {
          "base_uri": "https://localhost:8080/"
        },
        "id": "oV502-Pd2eam",
        "outputId": "986af6ec-7703-4f14-81bd-baab3a9b39c3"
      },
      "execution_count": 1,
      "outputs": [
        {
          "output_type": "stream",
          "name": "stdout",
          "text": [
            "Mounted at /content/drive\n"
          ]
        }
      ]
    },
    {
      "cell_type": "code",
      "execution_count": 7,
      "metadata": {
        "colab": {
          "base_uri": "https://localhost:8080/"
        },
        "id": "mVUb7cYg6nK6",
        "outputId": "3ae1ae02-006d-4c65-e9e1-4b1970319502"
      },
      "outputs": [
        {
          "output_type": "stream",
          "name": "stdout",
          "text": [
            "Secuencia mutada2 (primeros 102 nt): GCTTTTTCAATCCCTTGTTCXTCGATGCTGCGTATGCCTCCCGGTTCGTGTAACGGTGCGACTGCTGTATTTGGTAACGTTCATTGTCAGGCAGCTCAGAA\n"
          ]
        }
      ],
      "source": [
        "# Importamos módulos para trabajar con secuencias\n",
        "from Bio import SeqIO\n",
        "from Bio.Seq import Seq\n",
        "\n",
        "\n",
        "# Leemos la secuencia guardada en el archivo FASTA\n",
        "registro = SeqIO.read(\"/content/drive/MyDrive/Colab_Notebook/Bioinfo/Datasets/mi_secuencia2.fasta\", \"fasta\")\n",
        "\n",
        "# Convertimos la secuencia (string) a una lista de caracteres para poder editarla\n",
        "seq_list = list(str(registro.seq))\n",
        "\n",
        "# Realizamos una mutación en la posición 2 (cambiamos el nucleótido por 'x')\n",
        "seq_list[20] = \"X\"\n",
        "\n",
        "# Reconstruimos la secuencia de caracteres a una cadena de texto (string) como objeto Seq\n",
        "secuencia_mutada2 = Seq(\"\".join(seq_list))\n",
        "\n",
        "# Mostramos los primeros 102 nucleótidos de la secuencia mutada\n",
        "print(\"Secuencia mutada2 (primeros 102 nt):\", secuencia_mutada2[:101])\n"
      ]
    },
    {
      "cell_type": "code",
      "source": [
        "# Instalamos la librería para visualizar secuencias con anotaciones\n",
        "!pip install dna_features_viewer\n",
        "\n",
        "# Importamos los módulos necesarios\n",
        "from dna_features_viewer import GraphicFeature, GraphicRecord\n",
        "import matplotlib.pyplot as plt\n",
        "\n",
        "# Creamos anotaciones ficticias sobre la secuencia\n",
        "features = [\n",
        "    GraphicFeature(start=10, end=100, strand=+1, color=\"#ffd700\", label=\"Exón 1\"),\n",
        "    GraphicFeature(start=150, end=250, strand=-1, color=\"#ffcccc\", label=\"Promotor\"),\n",
        "    GraphicFeature(start=300, end=350, strand=+1, color=\"#cce5ff\", label=\"Sitio regulador\")\n",
        "]\n",
        "\n",
        "# Creamos el gráfico con las anotaciones\n",
        "record = GraphicRecord(sequence_length=len(secuencia_mutada2), features=features)\n",
        "ax, _ = record.plot(figure_width=10)\n",
        "plt.show() # Mostramos el gráfico\n"
      ],
      "metadata": {
        "colab": {
          "base_uri": "https://localhost:8080/",
          "height": 476
        },
        "id": "-O2vBCit1uGi",
        "outputId": "8a3b6ebb-aba1-4558-a215-d1e16c9ec291"
      },
      "execution_count": 10,
      "outputs": [
        {
          "output_type": "stream",
          "name": "stdout",
          "text": [
            "Requirement already satisfied: dna_features_viewer in /usr/local/lib/python3.12/dist-packages (3.1.5)\n",
            "Requirement already satisfied: matplotlib>=3 in /usr/local/lib/python3.12/dist-packages (from dna_features_viewer) (3.10.0)\n",
            "Requirement already satisfied: Biopython in /usr/local/lib/python3.12/dist-packages (from dna_features_viewer) (1.85)\n",
            "Requirement already satisfied: packaging in /usr/local/lib/python3.12/dist-packages (from dna_features_viewer) (25.0)\n",
            "Requirement already satisfied: contourpy>=1.0.1 in /usr/local/lib/python3.12/dist-packages (from matplotlib>=3->dna_features_viewer) (1.3.3)\n",
            "Requirement already satisfied: cycler>=0.10 in /usr/local/lib/python3.12/dist-packages (from matplotlib>=3->dna_features_viewer) (0.12.1)\n",
            "Requirement already satisfied: fonttools>=4.22.0 in /usr/local/lib/python3.12/dist-packages (from matplotlib>=3->dna_features_viewer) (4.60.1)\n",
            "Requirement already satisfied: kiwisolver>=1.3.1 in /usr/local/lib/python3.12/dist-packages (from matplotlib>=3->dna_features_viewer) (1.4.9)\n",
            "Requirement already satisfied: numpy>=1.23 in /usr/local/lib/python3.12/dist-packages (from matplotlib>=3->dna_features_viewer) (2.0.2)\n",
            "Requirement already satisfied: pillow>=8 in /usr/local/lib/python3.12/dist-packages (from matplotlib>=3->dna_features_viewer) (11.3.0)\n",
            "Requirement already satisfied: pyparsing>=2.3.1 in /usr/local/lib/python3.12/dist-packages (from matplotlib>=3->dna_features_viewer) (3.2.5)\n",
            "Requirement already satisfied: python-dateutil>=2.7 in /usr/local/lib/python3.12/dist-packages (from matplotlib>=3->dna_features_viewer) (2.9.0.post0)\n",
            "Requirement already satisfied: six>=1.5 in /usr/local/lib/python3.12/dist-packages (from python-dateutil>=2.7->matplotlib>=3->dna_features_viewer) (1.17.0)\n"
          ]
        },
        {
          "output_type": "display_data",
          "data": {
            "text/plain": [
              "<Figure size 1000x220 with 1 Axes>"
            ],
            "image/png": "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\n"
          },
          "metadata": {}
        }
      ]
    },
    {
      "cell_type": "code",
      "source": [
        "# Importamos el módulo para crear un nuevo registro de secuencia\n",
        "from Bio.SeqRecord import SeqRecord\n",
        "\n",
        "# Creamos un nuevo objeto SeqRecord con la secuencia mutada\n",
        "registro_editado = SeqRecord(\n",
        "    secuencia_mutada2,\n",
        "    id=\"Editado_NCBI\",\n",
        "    description=\"Secuencia con mutación en posición 20\"\n",
        ")\n",
        "\n",
        "# Guardamos la secuencia editada en un nuevo archivo FASTA\n",
        "with open(\"/content/drive/MyDrive/Colab_Notebook/Bioinfo/Output/mi_secuencia_editada2.fasta\", \"w\") as output_handle:\n",
        "    SeqIO.write(registro_editado, output_handle, \"fasta\")\n",
        "\n",
        "# Confirmamos que el archivo fue guardado\n",
        "print(\"Secuencia editada guardada como '/content/drive/MyDrive/Colab_Notebook/Bioinfo/Output/mi_secuencia_editada2.fasta'\")\n"
      ],
      "metadata": {
        "colab": {
          "base_uri": "https://localhost:8080/"
        },
        "id": "5UuRW-sx1xkj",
        "outputId": "86e3863e-6e76-4447-b012-2883c923b950"
      },
      "execution_count": 11,
      "outputs": [
        {
          "output_type": "stream",
          "name": "stdout",
          "text": [
            "Secuencia editada guardada como '/content/drive/MyDrive/Colab_Notebook/Bioinfo/Output/mi_secuencia_editada2.fasta'\n"
          ]
        }
      ]
    }
  ],
  "metadata": {
    "colab": {
      "provenance": [],
      "include_colab_link": true
    },
    "kernelspec": {
      "display_name": "Python 3",
      "name": "python3"
    },
    "language_info": {
      "name": "python"
    }
  },
  "nbformat": 4,
  "nbformat_minor": 0
}
