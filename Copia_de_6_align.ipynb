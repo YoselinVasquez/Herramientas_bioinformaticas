{
  "nbformat": 4,
  "nbformat_minor": 0,
  "metadata": {
    "colab": {
      "provenance": [],
      "include_colab_link": true
    },
    "kernelspec": {
      "name": "python3",
      "display_name": "Python 3"
    },
    "language_info": {
      "name": "python"
    }
  },
  "cells": [
    {
      "cell_type": "markdown",
      "metadata": {
        "id": "view-in-github",
        "colab_type": "text"
      },
      "source": [
        "<a href=\"https://colab.research.google.com/github/YoselinVasquez/Herramientas_bioinformaticas/blob/main/Copia_de_6_align.ipynb\" target=\"_parent\"><img src=\"https://colab.research.google.com/assets/colab-badge.svg\" alt=\"Open In Colab\"/></a>"
      ]
    },
    {
      "cell_type": "code",
      "execution_count": 3,
      "metadata": {
        "colab": {
          "base_uri": "https://localhost:8080/"
        },
        "id": "9p3Kkepb_Hvc",
        "outputId": "f37f0958-5f0c-40c5-a951-e26b18f68865"
      },
      "outputs": [
        {
          "output_type": "stream",
          "name": "stdout",
          "text": [
            "Collecting biopython\n",
            "  Downloading biopython-1.85-cp312-cp312-manylinux_2_17_x86_64.manylinux2014_x86_64.whl.metadata (13 kB)\n",
            "Requirement already satisfied: numpy in /usr/local/lib/python3.12/dist-packages (from biopython) (2.0.2)\n",
            "Downloading biopython-1.85-cp312-cp312-manylinux_2_17_x86_64.manylinux2014_x86_64.whl (3.3 MB)\n",
            "\u001b[2K   \u001b[90m━━━━━━━━━━━━━━━━━━━━━━━━━━━━━━━━━━━━━━━━\u001b[0m \u001b[32m3.3/3.3 MB\u001b[0m \u001b[31m25.9 MB/s\u001b[0m eta \u001b[36m0:00:00\u001b[0m\n",
            "\u001b[?25hInstalling collected packages: biopython\n",
            "Successfully installed biopython-1.85\n"
          ]
        }
      ],
      "source": [
        "\n",
        "# 1. Instalar Biopython\n",
        "!pip install biopython\n"
      ]
    },
    {
      "cell_type": "code",
      "source": [
        "from google.colab import drive\n",
        "drive.mount('/content/drive')"
      ],
      "metadata": {
        "id": "nnnezGgfpaxp",
        "colab": {
          "base_uri": "https://localhost:8080/"
        },
        "outputId": "54ffe422-1030-4187-e94a-71a422749ebf"
      },
      "execution_count": 2,
      "outputs": [
        {
          "output_type": "stream",
          "name": "stdout",
          "text": [
            "Drive already mounted at /content/drive; to attempt to forcibly remount, call drive.mount(\"/content/drive\", force_remount=True).\n"
          ]
        }
      ]
    },
    {
      "cell_type": "code",
      "source": [
        "\n",
        "# 2. Subir archivo FASTA usando ventana emergente\n",
        "from google.colab import files\n",
        "import os\n",
        "\n",
        "print(\"📁 Selecciona tu archivo FASTA (Pomacea_16S.fasta):\")\n",
        "uploaded = files.upload()\n",
        "\n",
        "# 3. Detectar nombre del archivo subido\n",
        "filename = list(uploaded.keys())[0]\n",
        "print(f\"✅ Archivo '{filename}' subido correctamente.\")\n"
      ],
      "metadata": {
        "colab": {
          "base_uri": "https://localhost:8080/",
          "height": 107
        },
        "id": "LwZY63atI7-X",
        "outputId": "d1a2aa8b-f76a-470a-cdd5-54e3a7c0af11"
      },
      "execution_count": 8,
      "outputs": [
        {
          "output_type": "stream",
          "name": "stdout",
          "text": [
            "📁 Selecciona tu archivo FASTA (Pomacea_16S.fasta):\n"
          ]
        },
        {
          "output_type": "display_data",
          "data": {
            "text/plain": [
              "<IPython.core.display.HTML object>"
            ],
            "text/html": [
              "\n",
              "     <input type=\"file\" id=\"files-dd52a4d5-9c3f-4cc0-bdb5-fd0811b60aeb\" name=\"files[]\" multiple disabled\n",
              "        style=\"border:none\" />\n",
              "     <output id=\"result-dd52a4d5-9c3f-4cc0-bdb5-fd0811b60aeb\">\n",
              "      Upload widget is only available when the cell has been executed in the\n",
              "      current browser session. Please rerun this cell to enable.\n",
              "      </output>\n",
              "      <script>// Copyright 2017 Google LLC\n",
              "//\n",
              "// Licensed under the Apache License, Version 2.0 (the \"License\");\n",
              "// you may not use this file except in compliance with the License.\n",
              "// You may obtain a copy of the License at\n",
              "//\n",
              "//      http://www.apache.org/licenses/LICENSE-2.0\n",
              "//\n",
              "// Unless required by applicable law or agreed to in writing, software\n",
              "// distributed under the License is distributed on an \"AS IS\" BASIS,\n",
              "// WITHOUT WARRANTIES OR CONDITIONS OF ANY KIND, either express or implied.\n",
              "// See the License for the specific language governing permissions and\n",
              "// limitations under the License.\n",
              "\n",
              "/**\n",
              " * @fileoverview Helpers for google.colab Python module.\n",
              " */\n",
              "(function(scope) {\n",
              "function span(text, styleAttributes = {}) {\n",
              "  const element = document.createElement('span');\n",
              "  element.textContent = text;\n",
              "  for (const key of Object.keys(styleAttributes)) {\n",
              "    element.style[key] = styleAttributes[key];\n",
              "  }\n",
              "  return element;\n",
              "}\n",
              "\n",
              "// Max number of bytes which will be uploaded at a time.\n",
              "const MAX_PAYLOAD_SIZE = 100 * 1024;\n",
              "\n",
              "function _uploadFiles(inputId, outputId) {\n",
              "  const steps = uploadFilesStep(inputId, outputId);\n",
              "  const outputElement = document.getElementById(outputId);\n",
              "  // Cache steps on the outputElement to make it available for the next call\n",
              "  // to uploadFilesContinue from Python.\n",
              "  outputElement.steps = steps;\n",
              "\n",
              "  return _uploadFilesContinue(outputId);\n",
              "}\n",
              "\n",
              "// This is roughly an async generator (not supported in the browser yet),\n",
              "// where there are multiple asynchronous steps and the Python side is going\n",
              "// to poll for completion of each step.\n",
              "// This uses a Promise to block the python side on completion of each step,\n",
              "// then passes the result of the previous step as the input to the next step.\n",
              "function _uploadFilesContinue(outputId) {\n",
              "  const outputElement = document.getElementById(outputId);\n",
              "  const steps = outputElement.steps;\n",
              "\n",
              "  const next = steps.next(outputElement.lastPromiseValue);\n",
              "  return Promise.resolve(next.value.promise).then((value) => {\n",
              "    // Cache the last promise value to make it available to the next\n",
              "    // step of the generator.\n",
              "    outputElement.lastPromiseValue = value;\n",
              "    return next.value.response;\n",
              "  });\n",
              "}\n",
              "\n",
              "/**\n",
              " * Generator function which is called between each async step of the upload\n",
              " * process.\n",
              " * @param {string} inputId Element ID of the input file picker element.\n",
              " * @param {string} outputId Element ID of the output display.\n",
              " * @return {!Iterable<!Object>} Iterable of next steps.\n",
              " */\n",
              "function* uploadFilesStep(inputId, outputId) {\n",
              "  const inputElement = document.getElementById(inputId);\n",
              "  inputElement.disabled = false;\n",
              "\n",
              "  const outputElement = document.getElementById(outputId);\n",
              "  outputElement.innerHTML = '';\n",
              "\n",
              "  const pickedPromise = new Promise((resolve) => {\n",
              "    inputElement.addEventListener('change', (e) => {\n",
              "      resolve(e.target.files);\n",
              "    });\n",
              "  });\n",
              "\n",
              "  const cancel = document.createElement('button');\n",
              "  inputElement.parentElement.appendChild(cancel);\n",
              "  cancel.textContent = 'Cancel upload';\n",
              "  const cancelPromise = new Promise((resolve) => {\n",
              "    cancel.onclick = () => {\n",
              "      resolve(null);\n",
              "    };\n",
              "  });\n",
              "\n",
              "  // Wait for the user to pick the files.\n",
              "  const files = yield {\n",
              "    promise: Promise.race([pickedPromise, cancelPromise]),\n",
              "    response: {\n",
              "      action: 'starting',\n",
              "    }\n",
              "  };\n",
              "\n",
              "  cancel.remove();\n",
              "\n",
              "  // Disable the input element since further picks are not allowed.\n",
              "  inputElement.disabled = true;\n",
              "\n",
              "  if (!files) {\n",
              "    return {\n",
              "      response: {\n",
              "        action: 'complete',\n",
              "      }\n",
              "    };\n",
              "  }\n",
              "\n",
              "  for (const file of files) {\n",
              "    const li = document.createElement('li');\n",
              "    li.append(span(file.name, {fontWeight: 'bold'}));\n",
              "    li.append(span(\n",
              "        `(${file.type || 'n/a'}) - ${file.size} bytes, ` +\n",
              "        `last modified: ${\n",
              "            file.lastModifiedDate ? file.lastModifiedDate.toLocaleDateString() :\n",
              "                                    'n/a'} - `));\n",
              "    const percent = span('0% done');\n",
              "    li.appendChild(percent);\n",
              "\n",
              "    outputElement.appendChild(li);\n",
              "\n",
              "    const fileDataPromise = new Promise((resolve) => {\n",
              "      const reader = new FileReader();\n",
              "      reader.onload = (e) => {\n",
              "        resolve(e.target.result);\n",
              "      };\n",
              "      reader.readAsArrayBuffer(file);\n",
              "    });\n",
              "    // Wait for the data to be ready.\n",
              "    let fileData = yield {\n",
              "      promise: fileDataPromise,\n",
              "      response: {\n",
              "        action: 'continue',\n",
              "      }\n",
              "    };\n",
              "\n",
              "    // Use a chunked sending to avoid message size limits. See b/62115660.\n",
              "    let position = 0;\n",
              "    do {\n",
              "      const length = Math.min(fileData.byteLength - position, MAX_PAYLOAD_SIZE);\n",
              "      const chunk = new Uint8Array(fileData, position, length);\n",
              "      position += length;\n",
              "\n",
              "      const base64 = btoa(String.fromCharCode.apply(null, chunk));\n",
              "      yield {\n",
              "        response: {\n",
              "          action: 'append',\n",
              "          file: file.name,\n",
              "          data: base64,\n",
              "        },\n",
              "      };\n",
              "\n",
              "      let percentDone = fileData.byteLength === 0 ?\n",
              "          100 :\n",
              "          Math.round((position / fileData.byteLength) * 100);\n",
              "      percent.textContent = `${percentDone}% done`;\n",
              "\n",
              "    } while (position < fileData.byteLength);\n",
              "  }\n",
              "\n",
              "  // All done.\n",
              "  yield {\n",
              "    response: {\n",
              "      action: 'complete',\n",
              "    }\n",
              "  };\n",
              "}\n",
              "\n",
              "scope.google = scope.google || {};\n",
              "scope.google.colab = scope.google.colab || {};\n",
              "scope.google.colab._files = {\n",
              "  _uploadFiles,\n",
              "  _uploadFilesContinue,\n",
              "};\n",
              "})(self);\n",
              "</script> "
            ]
          },
          "metadata": {}
        },
        {
          "output_type": "stream",
          "name": "stdout",
          "text": [
            "Saving Pomacea_16S.fasta to Pomacea_16S.fasta\n",
            "✅ Archivo 'Pomacea_16S.fasta' subido correctamente.\n"
          ]
        }
      ]
    },
    {
      "cell_type": "code",
      "source": [
        "\n",
        "# 4. Crear carpeta personalizada y guardar el archivo allí\n",
        "folder_path = \"/content/drive/MyDrive/Colab_Notebook/Bioinfo/Datasets\"\n",
        "os.makedirs(folder_path, exist_ok=True)\n",
        "\n",
        "file_path = os.path.join(folder_path, filename)\n",
        "\n",
        "with open(file_path, \"w\") as f:\n",
        "    f.write(uploaded[filename].decode(\"utf-8\"))\n",
        "\n",
        "print(f\"📂 Archivo guardado en: {file_path}\")\n"
      ],
      "metadata": {
        "colab": {
          "base_uri": "https://localhost:8080/"
        },
        "id": "IdmGAr1EI-W0",
        "outputId": "0819d69c-f8e9-440e-9e62-07c71f5dad37"
      },
      "execution_count": 9,
      "outputs": [
        {
          "output_type": "stream",
          "name": "stdout",
          "text": [
            "📂 Archivo guardado en: /content/drive/MyDrive/Colab_Notebook/Bioinfo/Datasets/Pomacea_16S.fasta\n"
          ]
        }
      ]
    },
    {
      "cell_type": "code",
      "source": [
        "\n",
        "# 5. Leer y mostrar información de la secuencia\n",
        "from Bio import SeqIO\n",
        "\n",
        "\n",
        "# Reemplaza 'filename' con la ruta completa si el archivo está en una carpeta específica\n",
        "for record in SeqIO.parse(filename, \"fasta\"):\n",
        "    print(\"🧬 ID:\", record.id)\n",
        "    print(\"📌 Descripción:\", record.description)\n",
        "    print(\"📏 Longitud:\", len(record.seq))\n",
        "    print(\"🔠 Secuencia (primeros 100 nt):\", record.seq[:100])\n",
        "    print(\"-\" * 50)\n",
        "\n"
      ],
      "metadata": {
        "colab": {
          "base_uri": "https://localhost:8080/"
        },
        "id": "-qqyXXqh_ob4",
        "outputId": "77d2b5bc-b9c2-48d1-869a-a305b2a1d6f0"
      },
      "execution_count": 10,
      "outputs": [
        {
          "output_type": "stream",
          "name": "stdout",
          "text": [
            "🧬 ID: MH602347.1\n",
            "📌 Descripción: MH602347.1 Pomacea maculata isolate H4 16S ribosomal RNA gene, partial sequence; mitochondrial\n",
            "📏 Longitud: 450\n",
            "🔠 Secuencia (primeros 100 nt): CCTGCAGTGATTTTTAACGGCCGCGGTACTTTGACCGTGCAAAGGTAGCATAATCATTTGCCTTATAATTGAAGGCTAGTATGAAAGGTTTAACGAGAGT\n",
            "--------------------------------------------------\n",
            "🧬 ID: MH602346.1\n",
            "📌 Descripción: MH602346.1 Pomacea maculata isolate H3 16S ribosomal RNA gene, partial sequence; mitochondrial\n",
            "📏 Longitud: 450\n",
            "🔠 Secuencia (primeros 100 nt): CCTGCAGTGATTTTTAACGGCCGCGGCACTTTGACCGTGCAAAGGTAGCCTAATCATTTGCCTTATAATTGAAGGCTAGTATGAAAGGTTTAACGAGAGT\n",
            "--------------------------------------------------\n",
            "🧬 ID: MH602344.1\n",
            "📌 Descripción: MH602344.1 Pomacea canaliculata isolate H10 16S ribosomal RNA gene, partial sequence; mitochondrial\n",
            "📏 Longitud: 450\n",
            "🔠 Secuencia (primeros 100 nt): CTGCCAGTGATTTTTAACGGCCGCGGTACTTTGACCGTGCAAAGGTAGCATAATCATTTGCCTTATAATTGAAGGCTAGTATGAAAGGTTTGACGAAAGT\n",
            "--------------------------------------------------\n",
            "🧬 ID: MH602343.1\n",
            "📌 Descripción: MH602343.1 Pomacea canaliculata isolate H9 16S ribosomal RNA gene, partial sequence; mitochondrial\n",
            "📏 Longitud: 450\n",
            "🔠 Secuencia (primeros 100 nt): CTGCCAGTGATTTTTAACGGCCGCGGTACTTTGACCGTGCAAAGGTAGCATAATCATTTGCCTTATAATTGAAGGCTAGTATGAAAGGTTTGACGAAAGT\n",
            "--------------------------------------------------\n",
            "🧬 ID: KM389472.1\n",
            "📌 Descripción: KM389472.1 Pomacea diffusa 16S ribosomal RNA gene, partial sequence; mitochondrial\n",
            "📏 Longitud: 547\n",
            "🔠 Secuencia (primeros 100 nt): CTGTTTATCAAAAACATGGCTCTTTGTTCATGAACTTATGAAGAGTCTAGCCTGCCCAGTGAAAATTTTTAACGGCCGCGGTACTCTGACCGTGCAAAGG\n",
            "--------------------------------------------------\n",
            "🧬 ID: EU274500.1\n",
            "📌 Descripción: EU274500.1 Pomacea bridgesi voucher P.bri.1 16S ribosomal RNA gene, partial sequence; mitochondrial\n",
            "📏 Longitud: 473\n",
            "🔠 Secuencia (primeros 100 nt): AAGAGTCTAGCCTGCCCAGTGAAAATTTTTAACGGCCGCGGTACTCTGACCGTGCAAAGGTAGCATAATCACTTGCCTTATAATTGAAGGCTAGTATGAA\n",
            "--------------------------------------------------\n",
            "🧬 ID: FJ710247.1\n",
            "📌 Descripción: FJ710247.1 Pomacea flagellata isolate CO01 16S ribosomal RNA gene, partial sequence; mitochondrial\n",
            "📏 Longitud: 475\n",
            "🔠 Secuencia (primeros 100 nt): AGGAGTTTGGCCTGCCCAGTGACAAAGTTTTAACGGCCGCGGTACTCTGACCGTGCGAAGGTAGCATAATCATTTGCCTTATAATTGAAGGCTAGTATGA\n",
            "--------------------------------------------------\n",
            "🧬 ID: FJ710248.1\n",
            "📌 Descripción: FJ710248.1 Pomacea papyracea isolate BR505 16S ribosomal RNA gene, partial sequence; mitochondrial\n",
            "📏 Longitud: 464\n",
            "🔠 Secuencia (primeros 100 nt): GGGAGTCTAGCCTGCCCGGTGATTGCAAATTTAACGGCCGCGGTACCCTGACCGTGCAAAGGTAGCATAATCATTTGCCTTATAATTGAAGGCTAGCATG\n",
            "--------------------------------------------------\n",
            "🧬 ID: FJ710246.1\n",
            "📌 Descripción: FJ710246.1 Pomacea patula isolate PA03 16S ribosomal RNA gene, partial sequence; mitochondrial\n",
            "📏 Longitud: 476\n",
            "🔠 Secuencia (primeros 100 nt): AGGAGTCTGGCCTGCCCGGTGATAAAGATTTTAACGGCCGCGGTACTCTGACCGTGCAAAGGTAGCATAATCATTTGCCTTATAATTGAAGGCTAGTATG\n",
            "--------------------------------------------------\n",
            "🧬 ID: FJ710244.1\n",
            "📌 Descripción: FJ710244.1 Pomacea sordida isolate BR160 16S ribosomal RNA gene, partial sequence; mitochondrial\n",
            "📏 Longitud: 474\n",
            "🔠 Secuencia (primeros 100 nt): AGGGGTCTGGCCTGCCCGGTGACAAAATTTAACGGCCGCGGTACTCTGACCGTGCAAAGGTAGCATAATCATTTGCCTTATAATTGAAGGCTAGTATGAA\n",
            "--------------------------------------------------\n",
            "🧬 ID: FJ710245.1\n",
            "📌 Descripción: FJ710245.1 Pomacea camena isolate VE02 16S ribosomal RNA gene, partial sequence; mitochondrial\n",
            "📏 Longitud: 474\n",
            "🔠 Secuencia (primeros 100 nt): AAGAGTCGAGCCTGCCCGGTGATAGTATTTAACGGCCGCGGTACTCTGACCGTGCAAAGGTAGCATAATCATTTGCCTTATAATTGAAGGCTGGTATGAA\n",
            "--------------------------------------------------\n",
            "🧬 ID: FJ710243.1\n",
            "📌 Descripción: FJ710243.1 Pomacea guyanensis isolate BR100 16S ribosomal RNA gene, partial sequence; mitochondrial\n",
            "📏 Longitud: 468\n",
            "🔠 Secuencia (primeros 100 nt): AGGAGTCTAGCCTGCCCAGTGACATTTTAACGGCCGCGGTACTCTGACCGTGCAAAGGTAGCATAATCATTTGCCTTATAATTGAAGGCTAGTATGAAAG\n",
            "--------------------------------------------------\n"
          ]
        }
      ]
    },
    {
      "cell_type": "code",
      "source": [
        "!apt-get install clustalo"
      ],
      "metadata": {
        "colab": {
          "base_uri": "https://localhost:8080/"
        },
        "id": "LMFNwh7rKzau",
        "outputId": "5e52b6ea-a5fe-4d1a-fb8a-8a12560ea008"
      },
      "execution_count": 11,
      "outputs": [
        {
          "output_type": "stream",
          "name": "stdout",
          "text": [
            "Reading package lists... Done\n",
            "Building dependency tree... Done\n",
            "Reading state information... Done\n",
            "The following additional packages will be installed:\n",
            "  libargtable2-0\n",
            "The following NEW packages will be installed:\n",
            "  clustalo libargtable2-0\n",
            "0 upgraded, 2 newly installed, 0 to remove and 38 not upgraded.\n",
            "Need to get 273 kB of archives.\n",
            "After this operation, 694 kB of additional disk space will be used.\n",
            "Get:1 http://archive.ubuntu.com/ubuntu jammy/universe amd64 libargtable2-0 amd64 13-1.1 [14.1 kB]\n",
            "Get:2 http://archive.ubuntu.com/ubuntu jammy/universe amd64 clustalo amd64 1.2.4-7 [259 kB]\n",
            "Fetched 273 kB in 1s (213 kB/s)\n",
            "Selecting previously unselected package libargtable2-0.\n",
            "(Reading database ... 126718 files and directories currently installed.)\n",
            "Preparing to unpack .../libargtable2-0_13-1.1_amd64.deb ...\n",
            "Unpacking libargtable2-0 (13-1.1) ...\n",
            "Selecting previously unselected package clustalo.\n",
            "Preparing to unpack .../clustalo_1.2.4-7_amd64.deb ...\n",
            "Unpacking clustalo (1.2.4-7) ...\n",
            "Setting up libargtable2-0 (13-1.1) ...\n",
            "Setting up clustalo (1.2.4-7) ...\n",
            "Processing triggers for libc-bin (2.35-0ubuntu3.8) ...\n",
            "/sbin/ldconfig.real: /usr/local/lib/libtcm.so.1 is not a symbolic link\n",
            "\n",
            "/sbin/ldconfig.real: /usr/local/lib/libtbb.so.12 is not a symbolic link\n",
            "\n",
            "/sbin/ldconfig.real: /usr/local/lib/libumf.so.0 is not a symbolic link\n",
            "\n",
            "/sbin/ldconfig.real: /usr/local/lib/libur_adapter_level_zero.so.0 is not a symbolic link\n",
            "\n",
            "/sbin/ldconfig.real: /usr/local/lib/libtbbmalloc_proxy.so.2 is not a symbolic link\n",
            "\n",
            "/sbin/ldconfig.real: /usr/local/lib/libtbbmalloc.so.2 is not a symbolic link\n",
            "\n",
            "/sbin/ldconfig.real: /usr/local/lib/libur_adapter_opencl.so.0 is not a symbolic link\n",
            "\n",
            "/sbin/ldconfig.real: /usr/local/lib/libtbbbind_2_0.so.3 is not a symbolic link\n",
            "\n",
            "/sbin/ldconfig.real: /usr/local/lib/libhwloc.so.15 is not a symbolic link\n",
            "\n",
            "/sbin/ldconfig.real: /usr/local/lib/libur_loader.so.0 is not a symbolic link\n",
            "\n",
            "/sbin/ldconfig.real: /usr/local/lib/libur_adapter_level_zero_v2.so.0 is not a symbolic link\n",
            "\n",
            "/sbin/ldconfig.real: /usr/local/lib/libtbbbind_2_5.so.3 is not a symbolic link\n",
            "\n",
            "/sbin/ldconfig.real: /usr/local/lib/libtcm_debug.so.1 is not a symbolic link\n",
            "\n",
            "/sbin/ldconfig.real: /usr/local/lib/libtbbbind.so.3 is not a symbolic link\n",
            "\n",
            "Processing triggers for man-db (2.10.2-1) ...\n"
          ]
        }
      ]
    },
    {
      "cell_type": "code",
      "source": [
        "!clustalo -i Pomacea_16S.fasta -o /content/drive/MyDrive/Colab_Notebook/Bioinfo/Output/Pomacea_16S_alineado.fasta --force"
      ],
      "metadata": {
        "id": "rWRYkmYWJR62"
      },
      "execution_count": 17,
      "outputs": []
    },
    {
      "cell_type": "code",
      "source": [
        "folder_path = \"/content/drive/MyDrive/Colab_Notebook/Bioinfo/Output\"\n",
        "\n",
        "file_path = os.path.join(folder_path, filename)\n",
        "\n",
        "for record in SeqIO.parse(file_path, \"fasta\"):\n",
        "    print(record.id)\n",
        "    print(record.seq[:100])\n"
      ],
      "metadata": {
        "colab": {
          "base_uri": "https://localhost:8080/",
          "height": 373
        },
        "id": "q9USY2bALU5l",
        "outputId": "d6c758fa-687b-4dcd-bf62-5279b56a4562"
      },
      "execution_count": 16,
      "outputs": [
        {
          "output_type": "error",
          "ename": "FileNotFoundError",
          "evalue": "[Errno 2] No such file or directory: '/content/drive/MyDrive/Colab_Notebook/Bioinfo/Output/Pomacea_16S.fasta'",
          "traceback": [
            "\u001b[0;31m---------------------------------------------------------------------------\u001b[0m",
            "\u001b[0;31mFileNotFoundError\u001b[0m                         Traceback (most recent call last)",
            "\u001b[0;32m/tmp/ipython-input-3359943356.py\u001b[0m in \u001b[0;36m<cell line: 0>\u001b[0;34m()\u001b[0m\n\u001b[1;32m      3\u001b[0m \u001b[0mfile_path\u001b[0m \u001b[0;34m=\u001b[0m \u001b[0mos\u001b[0m\u001b[0;34m.\u001b[0m\u001b[0mpath\u001b[0m\u001b[0;34m.\u001b[0m\u001b[0mjoin\u001b[0m\u001b[0;34m(\u001b[0m\u001b[0mfolder_path\u001b[0m\u001b[0;34m,\u001b[0m \u001b[0mfilename\u001b[0m\u001b[0;34m)\u001b[0m\u001b[0;34m\u001b[0m\u001b[0;34m\u001b[0m\u001b[0m\n\u001b[1;32m      4\u001b[0m \u001b[0;34m\u001b[0m\u001b[0m\n\u001b[0;32m----> 5\u001b[0;31m \u001b[0;32mfor\u001b[0m \u001b[0mrecord\u001b[0m \u001b[0;32min\u001b[0m \u001b[0mSeqIO\u001b[0m\u001b[0;34m.\u001b[0m\u001b[0mparse\u001b[0m\u001b[0;34m(\u001b[0m\u001b[0mfile_path\u001b[0m\u001b[0;34m,\u001b[0m \u001b[0;34m\"fasta\"\u001b[0m\u001b[0;34m)\u001b[0m\u001b[0;34m:\u001b[0m\u001b[0;34m\u001b[0m\u001b[0;34m\u001b[0m\u001b[0m\n\u001b[0m\u001b[1;32m      6\u001b[0m     \u001b[0mprint\u001b[0m\u001b[0;34m(\u001b[0m\u001b[0mrecord\u001b[0m\u001b[0;34m.\u001b[0m\u001b[0mid\u001b[0m\u001b[0;34m)\u001b[0m\u001b[0;34m\u001b[0m\u001b[0;34m\u001b[0m\u001b[0m\n\u001b[1;32m      7\u001b[0m     \u001b[0mprint\u001b[0m\u001b[0;34m(\u001b[0m\u001b[0mrecord\u001b[0m\u001b[0;34m.\u001b[0m\u001b[0mseq\u001b[0m\u001b[0;34m[\u001b[0m\u001b[0;34m:\u001b[0m\u001b[0;36m100\u001b[0m\u001b[0;34m]\u001b[0m\u001b[0;34m)\u001b[0m\u001b[0;34m\u001b[0m\u001b[0;34m\u001b[0m\u001b[0m\n",
            "\u001b[0;32m/usr/local/lib/python3.12/dist-packages/Bio/SeqIO/__init__.py\u001b[0m in \u001b[0;36mparse\u001b[0;34m(handle, format, alphabet)\u001b[0m\n\u001b[1;32m    624\u001b[0m     \u001b[0miterator_generator\u001b[0m \u001b[0;34m=\u001b[0m \u001b[0m_FormatToIterator\u001b[0m\u001b[0;34m.\u001b[0m\u001b[0mget\u001b[0m\u001b[0;34m(\u001b[0m\u001b[0mformat\u001b[0m\u001b[0;34m)\u001b[0m\u001b[0;34m\u001b[0m\u001b[0;34m\u001b[0m\u001b[0m\n\u001b[1;32m    625\u001b[0m     \u001b[0;32mif\u001b[0m \u001b[0miterator_generator\u001b[0m\u001b[0;34m:\u001b[0m\u001b[0;34m\u001b[0m\u001b[0;34m\u001b[0m\u001b[0m\n\u001b[0;32m--> 626\u001b[0;31m         \u001b[0;32mreturn\u001b[0m \u001b[0miterator_generator\u001b[0m\u001b[0;34m(\u001b[0m\u001b[0mhandle\u001b[0m\u001b[0;34m)\u001b[0m\u001b[0;34m\u001b[0m\u001b[0;34m\u001b[0m\u001b[0m\n\u001b[0m\u001b[1;32m    627\u001b[0m     \u001b[0;32mif\u001b[0m \u001b[0mformat\u001b[0m \u001b[0;32min\u001b[0m \u001b[0mAlignIO\u001b[0m\u001b[0;34m.\u001b[0m\u001b[0m_FormatToIterator\u001b[0m\u001b[0;34m:\u001b[0m\u001b[0;34m\u001b[0m\u001b[0;34m\u001b[0m\u001b[0m\n\u001b[1;32m    628\u001b[0m         \u001b[0;31m# Use Bio.AlignIO to read in the alignments\u001b[0m\u001b[0;34m\u001b[0m\u001b[0;34m\u001b[0m\u001b[0m\n",
            "\u001b[0;32m/usr/local/lib/python3.12/dist-packages/Bio/SeqIO/FastaIO.py\u001b[0m in \u001b[0;36m__init__\u001b[0;34m(self, source, alphabet)\u001b[0m\n\u001b[1;32m    194\u001b[0m         \u001b[0;32mif\u001b[0m \u001b[0malphabet\u001b[0m \u001b[0;32mis\u001b[0m \u001b[0;32mnot\u001b[0m \u001b[0;32mNone\u001b[0m\u001b[0;34m:\u001b[0m\u001b[0;34m\u001b[0m\u001b[0;34m\u001b[0m\u001b[0m\n\u001b[1;32m    195\u001b[0m             \u001b[0;32mraise\u001b[0m \u001b[0mValueError\u001b[0m\u001b[0;34m(\u001b[0m\u001b[0;34m\"The alphabet argument is no longer supported\"\u001b[0m\u001b[0;34m)\u001b[0m\u001b[0;34m\u001b[0m\u001b[0;34m\u001b[0m\u001b[0m\n\u001b[0;32m--> 196\u001b[0;31m         \u001b[0msuper\u001b[0m\u001b[0;34m(\u001b[0m\u001b[0;34m)\u001b[0m\u001b[0;34m.\u001b[0m\u001b[0m__init__\u001b[0m\u001b[0;34m(\u001b[0m\u001b[0msource\u001b[0m\u001b[0;34m,\u001b[0m \u001b[0mfmt\u001b[0m\u001b[0;34m=\u001b[0m\u001b[0;34m\"Fasta\"\u001b[0m\u001b[0;34m)\u001b[0m\u001b[0;34m\u001b[0m\u001b[0;34m\u001b[0m\u001b[0m\n\u001b[0m\u001b[1;32m    197\u001b[0m         \u001b[0;32mtry\u001b[0m\u001b[0;34m:\u001b[0m\u001b[0;34m\u001b[0m\u001b[0;34m\u001b[0m\u001b[0m\n\u001b[1;32m    198\u001b[0m             \u001b[0mline\u001b[0m \u001b[0;34m=\u001b[0m \u001b[0mnext\u001b[0m\u001b[0;34m(\u001b[0m\u001b[0mself\u001b[0m\u001b[0;34m.\u001b[0m\u001b[0mstream\u001b[0m\u001b[0;34m)\u001b[0m\u001b[0;34m\u001b[0m\u001b[0;34m\u001b[0m\u001b[0m\n",
            "\u001b[0;32m/usr/local/lib/python3.12/dist-packages/Bio/SeqIO/Interfaces.py\u001b[0m in \u001b[0;36m__init__\u001b[0;34m(self, source, alphabet, fmt)\u001b[0m\n\u001b[1;32m     79\u001b[0m         \u001b[0;32mif\u001b[0m \u001b[0misinstance\u001b[0m\u001b[0;34m(\u001b[0m\u001b[0msource\u001b[0m\u001b[0;34m,\u001b[0m \u001b[0m_PathLikeTypes\u001b[0m\u001b[0;34m)\u001b[0m\u001b[0;34m:\u001b[0m\u001b[0;34m\u001b[0m\u001b[0;34m\u001b[0m\u001b[0m\n\u001b[1;32m     80\u001b[0m             \u001b[0mmode\u001b[0m \u001b[0;34m=\u001b[0m \u001b[0mmodes\u001b[0m\u001b[0;34m[\u001b[0m\u001b[0;36m0\u001b[0m\u001b[0;34m]\u001b[0m\u001b[0;34m\u001b[0m\u001b[0;34m\u001b[0m\u001b[0m\n\u001b[0;32m---> 81\u001b[0;31m             \u001b[0mself\u001b[0m\u001b[0;34m.\u001b[0m\u001b[0mstream\u001b[0m \u001b[0;34m=\u001b[0m \u001b[0mopen\u001b[0m\u001b[0;34m(\u001b[0m\u001b[0msource\u001b[0m\u001b[0;34m,\u001b[0m \u001b[0;34m\"r\"\u001b[0m \u001b[0;34m+\u001b[0m \u001b[0mmode\u001b[0m\u001b[0;34m)\u001b[0m\u001b[0;34m\u001b[0m\u001b[0;34m\u001b[0m\u001b[0m\n\u001b[0m\u001b[1;32m     82\u001b[0m         \u001b[0;32melse\u001b[0m\u001b[0;34m:\u001b[0m\u001b[0;34m\u001b[0m\u001b[0;34m\u001b[0m\u001b[0m\n\u001b[1;32m     83\u001b[0m             \u001b[0mvalue\u001b[0m \u001b[0;34m=\u001b[0m \u001b[0msource\u001b[0m\u001b[0;34m.\u001b[0m\u001b[0mread\u001b[0m\u001b[0;34m(\u001b[0m\u001b[0;36m0\u001b[0m\u001b[0;34m)\u001b[0m\u001b[0;34m\u001b[0m\u001b[0;34m\u001b[0m\u001b[0m\n",
            "\u001b[0;31mFileNotFoundError\u001b[0m: [Errno 2] No such file or directory: '/content/drive/MyDrive/Colab_Notebook/Bioinfo/Output/Pomacea_16S.fasta'"
          ]
        }
      ]
    },
    {
      "cell_type": "code",
      "source": [
        "\n",
        "\n",
        "# Find first non-dash position in each sequence\n",
        "\n",
        "for record in SeqIO.parse(\"Pomacea_16S_alineado.fasta\", \"fasta\"):\n",
        "    seq_str = str(record.seq)\n",
        "    for i, c in enumerate(seq_str):\n",
        "        if c != '-':\n",
        "            print(f\"🧬 ID: {record.id} → Primer carácter no '-' en posición: {i}\")\n",
        "            break\n",
        "\n"
      ],
      "metadata": {
        "colab": {
          "base_uri": "https://localhost:8080/"
        },
        "id": "cvDOcF9iNgx5",
        "outputId": "38112885-e68a-4e6d-de2b-6e14c5b7ca5c"
      },
      "execution_count": null,
      "outputs": [
        {
          "output_type": "stream",
          "name": "stdout",
          "text": [
            "🧬 ID: MH602347.1 → Primer carácter no '-' en posición: 57\n",
            "🧬 ID: MH602346.1 → Primer carácter no '-' en posición: 57\n",
            "🧬 ID: MH602344.1 → Primer carácter no '-' en posición: 57\n",
            "🧬 ID: MH602343.1 → Primer carácter no '-' en posición: 57\n",
            "🧬 ID: KM389472.1 → Primer carácter no '-' en posición: 0\n",
            "🧬 ID: EU274500.1 → Primer carácter no '-' en posición: 40\n",
            "🧬 ID: FJ710247.1 → Primer carácter no '-' en posición: 40\n",
            "🧬 ID: FJ710248.1 → Primer carácter no '-' en posición: 40\n",
            "🧬 ID: FJ710246.1 → Primer carácter no '-' en posición: 40\n",
            "🧬 ID: FJ710244.1 → Primer carácter no '-' en posición: 40\n",
            "🧬 ID: FJ710245.1 → Primer carácter no '-' en posición: 40\n",
            "🧬 ID: FJ710243.1 → Primer carácter no '-' en posición: 44\n"
          ]
        }
      ]
    },
    {
      "cell_type": "code",
      "source": [
        "from Bio.SeqRecord import SeqRecord\n",
        "\n",
        "# Set output file path\n",
        "output_file = os.path.join(folder_path, \"Pomaceae_align_trim_57.fasta\")\n",
        "\n",
        "\n",
        "# Define trimming position (after removing leading dashes)\n",
        "start_position = 57  # Puedes cambiar este valor\n",
        "\n",
        "# Process sequences\n",
        "trimmed_records = []\n",
        "for record in SeqIO.parse(\"Pomacea_16S_alineado.fasta\", \"fasta\"):\n",
        "    seq_str = str(record.seq)\n",
        "    trimmed_leading = seq_str.lstrip(\"-\")\n",
        "    final_trimmed = trimmed_leading[start_position:]\n",
        "\n",
        "    new_record = SeqRecord(\n",
        "        seq=final_trimmed,\n",
        "        id=record.id,\n",
        "        description=f\"Trimmed from position {start_position} after leading dashes\"\n",
        "    )\n",
        "    trimmed_records.append(new_record)\n",
        "\n",
        "# Save trimmed sequences\n",
        "SeqIO.write(trimmed_records, output_file, \"fasta\")\n",
        "print(f\"✅ Secuencias guardadas en: {output_file}\")\n"
      ],
      "metadata": {
        "colab": {
          "base_uri": "https://localhost:8080/"
        },
        "id": "hP95U5d6Mqg9",
        "outputId": "f24f3013-7d2b-4bf0-a840-19c3394236c7"
      },
      "execution_count": 18,
      "outputs": [
        {
          "output_type": "stream",
          "name": "stdout",
          "text": [
            "✅ Secuencias guardadas en: /content/drive/MyDrive/Colab_Notebook/Bioinfo/Output/Pomaceae_align_trim_57.fasta\n"
          ]
        },
        {
          "output_type": "stream",
          "name": "stderr",
          "text": [
            "/usr/local/lib/python3.12/dist-packages/Bio/SeqRecord.py:228: BiopythonDeprecationWarning: Using a string as the sequence is deprecated and will raise a TypeError in future. It has been converted to a Seq object.\n",
            "  warnings.warn(\n"
          ]
        }
      ]
    }
  ]
}